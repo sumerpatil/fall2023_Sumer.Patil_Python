{
  "metadata": {
    "kernelspec": {
      "name": "python",
      "display_name": "Python (Pyodide)",
      "language": "python"
    },
    "language_info": {
      "codemirror_mode": {
        "name": "python",
        "version": 3
      },
      "file_extension": ".py",
      "mimetype": "text/x-python",
      "name": "python",
      "nbconvert_exporter": "python",
      "pygments_lexer": "ipython3",
      "version": "3.8"
    }
  },
  "nbformat_minor": 4,
  "nbformat": 4,
  "cells": [
    {
      "cell_type": "markdown",
      "source": "### u1421126\n**Pandas - DataFrames**",
      "metadata": {}
    },
    {
      "cell_type": "code",
      "source": "import pandas as pd\nimport numpy as np",
      "metadata": {
        "trusted": true
      },
      "execution_count": 1,
      "outputs": []
    },
    {
      "cell_type": "code",
      "source": "from numpy.random import randn\nnp.random.seed(101)\nrandn(5,4)",
      "metadata": {
        "trusted": true
      },
      "execution_count": 2,
      "outputs": [
        {
          "execution_count": 2,
          "output_type": "execute_result",
          "data": {
            "text/plain": "array([[ 2.70684984,  0.62813271,  0.90796945,  0.50382575],\n       [ 0.65111795, -0.31931804, -0.84807698,  0.60596535],\n       [-2.01816824,  0.74012206,  0.52881349, -0.58900053],\n       [ 0.18869531, -0.75887206, -0.93323722,  0.95505651],\n       [ 0.19079432,  1.97875732,  2.60596728,  0.68350889]])"
          },
          "metadata": {}
        }
      ]
    },
    {
      "cell_type": "code",
      "source": "df = pd.DataFrame(randn(5,4),index='A B C D E'.split(),columns='W X Y Z'.split())",
      "metadata": {
        "trusted": true
      },
      "execution_count": 3,
      "outputs": []
    },
    {
      "cell_type": "code",
      "source": "df",
      "metadata": {
        "trusted": true
      },
      "execution_count": 4,
      "outputs": [
        {
          "execution_count": 4,
          "output_type": "execute_result",
          "data": {
            "text/plain": "          W         X         Y         Z\nA  0.302665  1.693723 -1.706086 -1.159119\nB -0.134841  0.390528  0.166905  0.184502\nC  0.807706  0.072960  0.638787  0.329646\nD -0.497104 -0.754070 -0.943406  0.484752\nE -0.116773  1.901755  0.238127  1.996652",
            "text/html": "<div>\n<style scoped>\n    .dataframe tbody tr th:only-of-type {\n        vertical-align: middle;\n    }\n\n    .dataframe tbody tr th {\n        vertical-align: top;\n    }\n\n    .dataframe thead th {\n        text-align: right;\n    }\n</style>\n<table border=\"1\" class=\"dataframe\">\n  <thead>\n    <tr style=\"text-align: right;\">\n      <th></th>\n      <th>W</th>\n      <th>X</th>\n      <th>Y</th>\n      <th>Z</th>\n    </tr>\n  </thead>\n  <tbody>\n    <tr>\n      <th>A</th>\n      <td>0.302665</td>\n      <td>1.693723</td>\n      <td>-1.706086</td>\n      <td>-1.159119</td>\n    </tr>\n    <tr>\n      <th>B</th>\n      <td>-0.134841</td>\n      <td>0.390528</td>\n      <td>0.166905</td>\n      <td>0.184502</td>\n    </tr>\n    <tr>\n      <th>C</th>\n      <td>0.807706</td>\n      <td>0.072960</td>\n      <td>0.638787</td>\n      <td>0.329646</td>\n    </tr>\n    <tr>\n      <th>D</th>\n      <td>-0.497104</td>\n      <td>-0.754070</td>\n      <td>-0.943406</td>\n      <td>0.484752</td>\n    </tr>\n    <tr>\n      <th>E</th>\n      <td>-0.116773</td>\n      <td>1.901755</td>\n      <td>0.238127</td>\n      <td>1.996652</td>\n    </tr>\n  </tbody>\n</table>\n</div>"
          },
          "metadata": {}
        }
      ]
    },
    {
      "cell_type": "markdown",
      "source": "**Selection and Indexing**",
      "metadata": {}
    },
    {
      "cell_type": "code",
      "source": "df['W']",
      "metadata": {
        "trusted": true
      },
      "execution_count": 5,
      "outputs": [
        {
          "execution_count": 5,
          "output_type": "execute_result",
          "data": {
            "text/plain": "A    0.302665\nB   -0.134841\nC    0.807706\nD   -0.497104\nE   -0.116773\nName: W, dtype: float64"
          },
          "metadata": {}
        }
      ]
    },
    {
      "cell_type": "markdown",
      "source": "**Creating new column**",
      "metadata": {}
    },
    {
      "cell_type": "code",
      "source": "df['new_coloumn'] = df['W'] + df['Y']",
      "metadata": {
        "trusted": true
      },
      "execution_count": 6,
      "outputs": []
    },
    {
      "cell_type": "code",
      "source": "df",
      "metadata": {
        "trusted": true
      },
      "execution_count": 7,
      "outputs": [
        {
          "execution_count": 7,
          "output_type": "execute_result",
          "data": {
            "text/plain": "          W         X         Y         Z  new_coloumn\nA  0.302665  1.693723 -1.706086 -1.159119    -1.403420\nB -0.134841  0.390528  0.166905  0.184502     0.032064\nC  0.807706  0.072960  0.638787  0.329646     1.446493\nD -0.497104 -0.754070 -0.943406  0.484752    -1.440510\nE -0.116773  1.901755  0.238127  1.996652     0.121354",
            "text/html": "<div>\n<style scoped>\n    .dataframe tbody tr th:only-of-type {\n        vertical-align: middle;\n    }\n\n    .dataframe tbody tr th {\n        vertical-align: top;\n    }\n\n    .dataframe thead th {\n        text-align: right;\n    }\n</style>\n<table border=\"1\" class=\"dataframe\">\n  <thead>\n    <tr style=\"text-align: right;\">\n      <th></th>\n      <th>W</th>\n      <th>X</th>\n      <th>Y</th>\n      <th>Z</th>\n      <th>new_coloumn</th>\n    </tr>\n  </thead>\n  <tbody>\n    <tr>\n      <th>A</th>\n      <td>0.302665</td>\n      <td>1.693723</td>\n      <td>-1.706086</td>\n      <td>-1.159119</td>\n      <td>-1.403420</td>\n    </tr>\n    <tr>\n      <th>B</th>\n      <td>-0.134841</td>\n      <td>0.390528</td>\n      <td>0.166905</td>\n      <td>0.184502</td>\n      <td>0.032064</td>\n    </tr>\n    <tr>\n      <th>C</th>\n      <td>0.807706</td>\n      <td>0.072960</td>\n      <td>0.638787</td>\n      <td>0.329646</td>\n      <td>1.446493</td>\n    </tr>\n    <tr>\n      <th>D</th>\n      <td>-0.497104</td>\n      <td>-0.754070</td>\n      <td>-0.943406</td>\n      <td>0.484752</td>\n      <td>-1.440510</td>\n    </tr>\n    <tr>\n      <th>E</th>\n      <td>-0.116773</td>\n      <td>1.901755</td>\n      <td>0.238127</td>\n      <td>1.996652</td>\n      <td>0.121354</td>\n    </tr>\n  </tbody>\n</table>\n</div>"
          },
          "metadata": {}
        }
      ]
    },
    {
      "cell_type": "markdown",
      "source": "**Droping Columns**",
      "metadata": {}
    },
    {
      "cell_type": "code",
      "source": "df.drop('new_coloumn',axis=1)",
      "metadata": {
        "trusted": true
      },
      "execution_count": 8,
      "outputs": [
        {
          "execution_count": 8,
          "output_type": "execute_result",
          "data": {
            "text/plain": "          W         X         Y         Z\nA  0.302665  1.693723 -1.706086 -1.159119\nB -0.134841  0.390528  0.166905  0.184502\nC  0.807706  0.072960  0.638787  0.329646\nD -0.497104 -0.754070 -0.943406  0.484752\nE -0.116773  1.901755  0.238127  1.996652",
            "text/html": "<div>\n<style scoped>\n    .dataframe tbody tr th:only-of-type {\n        vertical-align: middle;\n    }\n\n    .dataframe tbody tr th {\n        vertical-align: top;\n    }\n\n    .dataframe thead th {\n        text-align: right;\n    }\n</style>\n<table border=\"1\" class=\"dataframe\">\n  <thead>\n    <tr style=\"text-align: right;\">\n      <th></th>\n      <th>W</th>\n      <th>X</th>\n      <th>Y</th>\n      <th>Z</th>\n    </tr>\n  </thead>\n  <tbody>\n    <tr>\n      <th>A</th>\n      <td>0.302665</td>\n      <td>1.693723</td>\n      <td>-1.706086</td>\n      <td>-1.159119</td>\n    </tr>\n    <tr>\n      <th>B</th>\n      <td>-0.134841</td>\n      <td>0.390528</td>\n      <td>0.166905</td>\n      <td>0.184502</td>\n    </tr>\n    <tr>\n      <th>C</th>\n      <td>0.807706</td>\n      <td>0.072960</td>\n      <td>0.638787</td>\n      <td>0.329646</td>\n    </tr>\n    <tr>\n      <th>D</th>\n      <td>-0.497104</td>\n      <td>-0.754070</td>\n      <td>-0.943406</td>\n      <td>0.484752</td>\n    </tr>\n    <tr>\n      <th>E</th>\n      <td>-0.116773</td>\n      <td>1.901755</td>\n      <td>0.238127</td>\n      <td>1.996652</td>\n    </tr>\n  </tbody>\n</table>\n</div>"
          },
          "metadata": {}
        }
      ]
    },
    {
      "cell_type": "markdown",
      "source": "**Selection of Rows**",
      "metadata": {}
    },
    {
      "cell_type": "code",
      "source": "df.loc['A']",
      "metadata": {
        "trusted": true
      },
      "execution_count": 9,
      "outputs": [
        {
          "execution_count": 9,
          "output_type": "execute_result",
          "data": {
            "text/plain": "W              0.302665\nX              1.693723\nY             -1.706086\nZ             -1.159119\nnew_coloumn   -1.403420\nName: A, dtype: float64"
          },
          "metadata": {}
        }
      ]
    },
    {
      "cell_type": "code",
      "source": "df.loc[['A','B'],['W','Y']]",
      "metadata": {
        "trusted": true
      },
      "execution_count": 10,
      "outputs": [
        {
          "execution_count": 10,
          "output_type": "execute_result",
          "data": {
            "text/plain": "          W         Y\nA  0.302665 -1.706086\nB -0.134841  0.166905",
            "text/html": "<div>\n<style scoped>\n    .dataframe tbody tr th:only-of-type {\n        vertical-align: middle;\n    }\n\n    .dataframe tbody tr th {\n        vertical-align: top;\n    }\n\n    .dataframe thead th {\n        text-align: right;\n    }\n</style>\n<table border=\"1\" class=\"dataframe\">\n  <thead>\n    <tr style=\"text-align: right;\">\n      <th></th>\n      <th>W</th>\n      <th>Y</th>\n    </tr>\n  </thead>\n  <tbody>\n    <tr>\n      <th>A</th>\n      <td>0.302665</td>\n      <td>-1.706086</td>\n    </tr>\n    <tr>\n      <th>B</th>\n      <td>-0.134841</td>\n      <td>0.166905</td>\n    </tr>\n  </tbody>\n</table>\n</div>"
          },
          "metadata": {}
        }
      ]
    },
    {
      "cell_type": "markdown",
      "source": "**Conditional Selection**",
      "metadata": {}
    },
    {
      "cell_type": "code",
      "source": "df[df>0]",
      "metadata": {
        "trusted": true
      },
      "execution_count": 11,
      "outputs": [
        {
          "execution_count": 11,
          "output_type": "execute_result",
          "data": {
            "text/plain": "          W         X         Y         Z  new_coloumn\nA  0.302665  1.693723       NaN       NaN          NaN\nB       NaN  0.390528  0.166905  0.184502     0.032064\nC  0.807706  0.072960  0.638787  0.329646     1.446493\nD       NaN       NaN       NaN  0.484752          NaN\nE       NaN  1.901755  0.238127  1.996652     0.121354",
            "text/html": "<div>\n<style scoped>\n    .dataframe tbody tr th:only-of-type {\n        vertical-align: middle;\n    }\n\n    .dataframe tbody tr th {\n        vertical-align: top;\n    }\n\n    .dataframe thead th {\n        text-align: right;\n    }\n</style>\n<table border=\"1\" class=\"dataframe\">\n  <thead>\n    <tr style=\"text-align: right;\">\n      <th></th>\n      <th>W</th>\n      <th>X</th>\n      <th>Y</th>\n      <th>Z</th>\n      <th>new_coloumn</th>\n    </tr>\n  </thead>\n  <tbody>\n    <tr>\n      <th>A</th>\n      <td>0.302665</td>\n      <td>1.693723</td>\n      <td>NaN</td>\n      <td>NaN</td>\n      <td>NaN</td>\n    </tr>\n    <tr>\n      <th>B</th>\n      <td>NaN</td>\n      <td>0.390528</td>\n      <td>0.166905</td>\n      <td>0.184502</td>\n      <td>0.032064</td>\n    </tr>\n    <tr>\n      <th>C</th>\n      <td>0.807706</td>\n      <td>0.072960</td>\n      <td>0.638787</td>\n      <td>0.329646</td>\n      <td>1.446493</td>\n    </tr>\n    <tr>\n      <th>D</th>\n      <td>NaN</td>\n      <td>NaN</td>\n      <td>NaN</td>\n      <td>0.484752</td>\n      <td>NaN</td>\n    </tr>\n    <tr>\n      <th>E</th>\n      <td>NaN</td>\n      <td>1.901755</td>\n      <td>0.238127</td>\n      <td>1.996652</td>\n      <td>0.121354</td>\n    </tr>\n  </tbody>\n</table>\n</div>"
          },
          "metadata": {}
        }
      ]
    },
    {
      "cell_type": "code",
      "source": "df[df['W']>0]",
      "metadata": {
        "trusted": true
      },
      "execution_count": 12,
      "outputs": [
        {
          "execution_count": 12,
          "output_type": "execute_result",
          "data": {
            "text/plain": "          W         X         Y         Z  new_coloumn\nA  0.302665  1.693723 -1.706086 -1.159119    -1.403420\nC  0.807706  0.072960  0.638787  0.329646     1.446493",
            "text/html": "<div>\n<style scoped>\n    .dataframe tbody tr th:only-of-type {\n        vertical-align: middle;\n    }\n\n    .dataframe tbody tr th {\n        vertical-align: top;\n    }\n\n    .dataframe thead th {\n        text-align: right;\n    }\n</style>\n<table border=\"1\" class=\"dataframe\">\n  <thead>\n    <tr style=\"text-align: right;\">\n      <th></th>\n      <th>W</th>\n      <th>X</th>\n      <th>Y</th>\n      <th>Z</th>\n      <th>new_coloumn</th>\n    </tr>\n  </thead>\n  <tbody>\n    <tr>\n      <th>A</th>\n      <td>0.302665</td>\n      <td>1.693723</td>\n      <td>-1.706086</td>\n      <td>-1.159119</td>\n      <td>-1.403420</td>\n    </tr>\n    <tr>\n      <th>C</th>\n      <td>0.807706</td>\n      <td>0.072960</td>\n      <td>0.638787</td>\n      <td>0.329646</td>\n      <td>1.446493</td>\n    </tr>\n  </tbody>\n</table>\n</div>"
          },
          "metadata": {}
        }
      ]
    },
    {
      "cell_type": "code",
      "source": "df[(df['W']>0) & (df['Y'] < 1)]",
      "metadata": {
        "trusted": true
      },
      "execution_count": 13,
      "outputs": [
        {
          "execution_count": 13,
          "output_type": "execute_result",
          "data": {
            "text/plain": "          W         X         Y         Z  new_coloumn\nA  0.302665  1.693723 -1.706086 -1.159119    -1.403420\nC  0.807706  0.072960  0.638787  0.329646     1.446493",
            "text/html": "<div>\n<style scoped>\n    .dataframe tbody tr th:only-of-type {\n        vertical-align: middle;\n    }\n\n    .dataframe tbody tr th {\n        vertical-align: top;\n    }\n\n    .dataframe thead th {\n        text-align: right;\n    }\n</style>\n<table border=\"1\" class=\"dataframe\">\n  <thead>\n    <tr style=\"text-align: right;\">\n      <th></th>\n      <th>W</th>\n      <th>X</th>\n      <th>Y</th>\n      <th>Z</th>\n      <th>new_coloumn</th>\n    </tr>\n  </thead>\n  <tbody>\n    <tr>\n      <th>A</th>\n      <td>0.302665</td>\n      <td>1.693723</td>\n      <td>-1.706086</td>\n      <td>-1.159119</td>\n      <td>-1.403420</td>\n    </tr>\n    <tr>\n      <th>C</th>\n      <td>0.807706</td>\n      <td>0.072960</td>\n      <td>0.638787</td>\n      <td>0.329646</td>\n      <td>1.446493</td>\n    </tr>\n  </tbody>\n</table>\n</div>"
          },
          "metadata": {}
        }
      ]
    }
  ]
}